{
  "nbformat": 4,
  "nbformat_minor": 0,
  "metadata": {
    "colab": {
      "provenance": [],
      "collapsed_sections": [
        "pjYv2AsmNsAw"
      ],
      "authorship_tag": "ABX9TyPPLGhKkZmyB0/lmqOKmLPC",
      "include_colab_link": true
    },
    "kernelspec": {
      "name": "python3",
      "display_name": "Python 3"
    },
    "language_info": {
      "name": "python"
    }
  },
  "cells": [
    {
      "cell_type": "markdown",
      "metadata": {
        "id": "view-in-github",
        "colab_type": "text"
      },
      "source": [
        "<a href=\"https://colab.research.google.com/github/Anas36/Fictional_Processor/blob/main/Ass1.ipynb\" target=\"_parent\"><img src=\"https://colab.research.google.com/assets/colab-badge.svg\" alt=\"Open In Colab\"/></a>"
      ]
    },
    {
      "cell_type": "markdown",
      "source": [
        "# **- Starter Code** **bold text**"
      ],
      "metadata": {
        "id": "pjYv2AsmNsAw"
      }
    },
    {
      "cell_type": "code",
      "source": [
        "#Starter Code\n",
        "import matplotlib.pyplot as plt\n",
        "from PIL import Image\n",
        "import matplotlib \n",
        "import numpy as np\n",
        "import matplotlib.pyplot as plt\n",
        "from numpy import asarray\n"
      ],
      "metadata": {
        "id": "VOS3OuQcN0Dp"
      },
      "execution_count": 138,
      "outputs": []
    },
    {
      "cell_type": "markdown",
      "source": [
        "# **- Opening Image**"
      ],
      "metadata": {
        "id": "_19EIF6xzdEz"
      }
    },
    {
      "cell_type": "code",
      "source": [
        "image = Image.open(\"sample_image.jpg\")\n",
        "grayImage = image.convert('L')\n",
        "\n",
        "img,sqr = toArrayAndSquare(grayImage)"
      ],
      "metadata": {
        "id": "wFS0Et7PW5W_"
      },
      "execution_count": 139,
      "outputs": []
    },
    {
      "cell_type": "code",
      "source": [
        "def toArrayAndSquare(im):\n",
        "  img = [[0 for x in range(im.size[0])] for y in range(im.size[1])]\n",
        "  sqr = [[0 for x in range(im.size[0])] for y in range(im.size[1])]\n",
        "  for i in range (0,im.size[0]):\n",
        "    for j in range (0,im.size[1]):\n",
        "      img[j][i] = im.getpixel((i,j))\n",
        "      sqr[j][i] = img[j][i] ** 2\n",
        "  return img,sqr\n"
      ],
      "metadata": {
        "id": "7SaiILVt3h1R"
      },
      "execution_count": null,
      "outputs": []
    },
    {
      "cell_type": "markdown",
      "source": [
        "# **integral Image**"
      ],
      "metadata": {
        "id": "N1NQ87B-sZUn"
      }
    },
    {
      "cell_type": "code",
      "source": [
        "def integralArray(Image):\n",
        "\n",
        "    Nimage=np.array(Image)\n",
        "\n",
        "    SumOfImage=Nimage.sum()\n",
        "\n",
        "    #Creating a new result numpy array\n",
        "    result_s=np.zeros((Nimage.shape[0],Nimage.shape[1]))\n",
        "    result_i=np.zeros((Nimage.shape[0],Nimage.shape[1]))\n",
        "\n",
        "    #copy image value\n",
        "    for i in range(0,Nimage.shape[0]):\n",
        "        for j in range(0,Nimage.shape[1]):\n",
        "            result_s[i][j] = Nimage[i][j]\n",
        "            result_i[i][j] = Nimage[i][j]\n",
        "\n",
        "    #Calculating s(i,j)\n",
        "    for i in range(0,Nimage.shape[0]):\n",
        "        for j in range(0,Nimage.shape[1]):\n",
        "            if(j-1==-1):\n",
        "                result_s[i][j]=0+Nimage[i][j]\n",
        "            else :\n",
        "                result_s[i][j]=result_s[i][j-1]+Nimage[i][j]\n",
        "\n",
        "    #Calculating ii(i,j)\n",
        "    for i in range(0,result_s.shape[0]):\n",
        "        for j in range(0,result_s.shape[1]):\n",
        "            if(i-1==-1):\n",
        "                result_i[i][j]=0+result_s[i][j]\n",
        "            else :\n",
        "                result_i[i][j]=result_i[i-1][j]+result_s[i][j]\n",
        "\n",
        "    return result_i"
      ],
      "metadata": {
        "id": "5_l3bWopjcCN"
      },
      "execution_count": 141,
      "outputs": []
    },
    {
      "cell_type": "markdown",
      "source": [
        "# **Local Sum**"
      ],
      "metadata": {
        "id": "fr3DE1GZJGGs"
      }
    },
    {
      "cell_type": "code",
      "source": [
        "def localSum(Image, leftI,leftJ ,rightI,rightJ):\n",
        "  sum = 0\n",
        "  integralImage = integralArray(Image)\n",
        "  #topLeft\n",
        "  topLeft = integralImage[leftI - 1][leftJ - 1]\n",
        "  #downLeft\n",
        "  downLeft = integralImage[rightI][leftJ - 1]\n",
        "  #topRight\n",
        "  topRight = integralImage[leftI - 1][rightJ]\n",
        "  #topLeft\n",
        "  downRight = integralImage[rightI][rightJ]\n",
        "\n",
        "  sum = downRight +  topLeft - downLeft - topRight\n",
        "\n",
        "  return sum\n"
      ],
      "metadata": {
        "id": "BoVPvx0wSkTO"
      },
      "execution_count": 142,
      "outputs": []
    },
    {
      "cell_type": "markdown",
      "source": [
        "# **Imgage With Integral**"
      ],
      "metadata": {
        "id": "yzhars_CJRa-"
      }
    },
    {
      "cell_type": "code",
      "source": [
        "def imgWithIntegral(grayImage,width,height):\n",
        "  img,sqr = toArrayAndSquare(grayImage)\n",
        "  N = width * height\n",
        "  Nimage=np.array(grayImage)\n",
        "\n",
        "  for i in range(0, Nimage.shape[0]-width + 1):\n",
        "      for j in range(0, Nimage.shape[1]-height +1):\n",
        "            leftI = i\n",
        "            leftJ = j\n",
        "            rightI = width + i - 1\n",
        "            rightJ = height + j -1\n",
        "            middleI = int((leftI + rightI)/2)\n",
        "            middleJ = int((leftJ + rightJ)/2)\n",
        "            localSumImg = localSum(img,leftI,leftJ,rightI,rightJ)\n",
        "            localSumSqrImg = localSum(sqr,leftI,leftJ,rightI,rightJ)\n",
        "            Var = (1/N * localSumSqrImg) - (1/N - localSumImg)**2\n",
        "            Nimage[middleI][middleJ] = Var\n",
        "  return Nimage   "
      ],
      "metadata": {
        "id": "QD2HKZuSWkYs"
      },
      "execution_count": 166,
      "outputs": []
    },
    {
      "cell_type": "markdown",
      "source": [
        "# **Plotting**"
      ],
      "metadata": {
        "id": "1SLHy74IJbVK"
      }
    },
    {
      "cell_type": "code",
      "source": [
        "#plt has to be imported, see the previous sections\n",
        "image2 = integralArray(img)\n",
        "image4 = integralArray(sqr)\n",
        "image5 = imgWithIntegral(grayImage,1,1)\n",
        "plt.subplots(nrows=3, ncols=2, figsize=(25, 25))\n",
        "\n",
        "plt.subplot(3,2,1)\n",
        "plt.imshow(img,  cmap = 'gray')\n",
        "\n",
        "plt.subplot(3,2,2)\n",
        "plt.imshow(image2,  cmap = 'gray')\n",
        "\n",
        "plt.subplot(3,2,3)\n",
        "plt.imshow(sqr,  cmap = 'gray')\n",
        "\n",
        "plt.subplot(3,2,4)\n",
        "plt.imshow(image4,  cmap = 'gray')\n",
        "\n",
        "plt.subplot(3,2,5)\n",
        "plt.imshow(image5,  cmap = 'gray')\n",
        "\n",
        "# plt.subplot(3,2,6)\n",
        "# plt.imshow(image6,  cmap = 'gray')\n",
        "\n"
      ],
      "metadata": {
        "colab": {
          "base_uri": "https://localhost:8080/",
          "height": 365
        },
        "id": "iHQb90iOaBhR",
        "outputId": "becb78d2-0d22-4309-d795-1c54cc55a31c"
      },
      "execution_count": 170,
      "outputs": [
        {
          "output_type": "error",
          "ename": "TypeError",
          "evalue": "ignored",
          "traceback": [
            "\u001b[0;31m---------------------------------------------------------------------------\u001b[0m",
            "\u001b[0;31mTypeError\u001b[0m                                 Traceback (most recent call last)",
            "\u001b[0;32m<ipython-input-170-a006f02a3883>\u001b[0m in \u001b[0;36m<module>\u001b[0;34m\u001b[0m\n\u001b[1;32m      2\u001b[0m \u001b[0mimage2\u001b[0m \u001b[0;34m=\u001b[0m \u001b[0mintegralArray\u001b[0m\u001b[0;34m(\u001b[0m\u001b[0mimg\u001b[0m\u001b[0;34m)\u001b[0m\u001b[0;34m\u001b[0m\u001b[0;34m\u001b[0m\u001b[0m\n\u001b[1;32m      3\u001b[0m \u001b[0mimage4\u001b[0m \u001b[0;34m=\u001b[0m \u001b[0mintegralArray\u001b[0m\u001b[0;34m(\u001b[0m\u001b[0msqr\u001b[0m\u001b[0;34m)\u001b[0m\u001b[0;34m\u001b[0m\u001b[0;34m\u001b[0m\u001b[0m\n\u001b[0;32m----> 4\u001b[0;31m \u001b[0mimage5\u001b[0m \u001b[0;34m=\u001b[0m \u001b[0mimgWithIntegral\u001b[0m\u001b[0;34m(\u001b[0m\u001b[0mgrayImage\u001b[0m\u001b[0;34m,\u001b[0m\u001b[0;36m1\u001b[0m\u001b[0;34m,\u001b[0m\u001b[0;36m1\u001b[0m\u001b[0;34m)\u001b[0m\u001b[0;34m\u001b[0m\u001b[0;34m\u001b[0m\u001b[0m\n\u001b[0m\u001b[1;32m      5\u001b[0m \u001b[0mplt\u001b[0m\u001b[0;34m.\u001b[0m\u001b[0msubplots\u001b[0m\u001b[0;34m(\u001b[0m\u001b[0mnrows\u001b[0m\u001b[0;34m=\u001b[0m\u001b[0;36m3\u001b[0m\u001b[0;34m,\u001b[0m \u001b[0mncols\u001b[0m\u001b[0;34m=\u001b[0m\u001b[0;36m2\u001b[0m\u001b[0;34m,\u001b[0m \u001b[0mfigsize\u001b[0m\u001b[0;34m=\u001b[0m\u001b[0;34m(\u001b[0m\u001b[0;36m25\u001b[0m\u001b[0;34m,\u001b[0m \u001b[0;36m25\u001b[0m\u001b[0;34m)\u001b[0m\u001b[0;34m)\u001b[0m\u001b[0;34m\u001b[0m\u001b[0;34m\u001b[0m\u001b[0m\n\u001b[1;32m      6\u001b[0m \u001b[0;34m\u001b[0m\u001b[0m\n",
            "\u001b[0;32m<ipython-input-166-4783209119ac>\u001b[0m in \u001b[0;36mimgWithIntegral\u001b[0;34m(grayImage, width, height)\u001b[0m\n\u001b[1;32m     10\u001b[0m             \u001b[0mrightI\u001b[0m \u001b[0;34m=\u001b[0m \u001b[0mwidth\u001b[0m \u001b[0;34m+\u001b[0m \u001b[0mi\u001b[0m \u001b[0;34m-\u001b[0m \u001b[0;36m1\u001b[0m\u001b[0;34m\u001b[0m\u001b[0;34m\u001b[0m\u001b[0m\n\u001b[1;32m     11\u001b[0m             \u001b[0mrightJ\u001b[0m \u001b[0;34m=\u001b[0m \u001b[0mheight\u001b[0m \u001b[0;34m+\u001b[0m \u001b[0mj\u001b[0m \u001b[0;34m-\u001b[0m\u001b[0;36m1\u001b[0m\u001b[0;34m\u001b[0m\u001b[0;34m\u001b[0m\u001b[0m\n\u001b[0;32m---> 12\u001b[0;31m             \u001b[0mmiddleI\u001b[0m \u001b[0;34m=\u001b[0m \u001b[0mint\u001b[0m\u001b[0;34m(\u001b[0m\u001b[0;34m(\u001b[0m\u001b[0mleftI\u001b[0m \u001b[0;34m+\u001b[0m \u001b[0mrightI\u001b[0m\u001b[0;34m)\u001b[0m\u001b[0;34m/\u001b[0m\u001b[0;36m2\u001b[0m\u001b[0;34m)\u001b[0m\u001b[0;34m\u001b[0m\u001b[0;34m\u001b[0m\u001b[0m\n\u001b[0m\u001b[1;32m     13\u001b[0m             \u001b[0mmiddleJ\u001b[0m \u001b[0;34m=\u001b[0m \u001b[0mint\u001b[0m\u001b[0;34m(\u001b[0m\u001b[0;34m(\u001b[0m\u001b[0mleftJ\u001b[0m \u001b[0;34m+\u001b[0m \u001b[0mrightJ\u001b[0m\u001b[0;34m)\u001b[0m\u001b[0;34m/\u001b[0m\u001b[0;36m2\u001b[0m\u001b[0;34m)\u001b[0m\u001b[0;34m\u001b[0m\u001b[0;34m\u001b[0m\u001b[0m\n\u001b[1;32m     14\u001b[0m             \u001b[0mlocalSumImg\u001b[0m \u001b[0;34m=\u001b[0m \u001b[0mlocalSum\u001b[0m\u001b[0;34m(\u001b[0m\u001b[0mimg\u001b[0m\u001b[0;34m,\u001b[0m\u001b[0mleftI\u001b[0m\u001b[0;34m,\u001b[0m\u001b[0mleftJ\u001b[0m\u001b[0;34m,\u001b[0m\u001b[0mrightI\u001b[0m\u001b[0;34m,\u001b[0m\u001b[0mrightJ\u001b[0m\u001b[0;34m)\u001b[0m\u001b[0;34m\u001b[0m\u001b[0;34m\u001b[0m\u001b[0m\n",
            "\u001b[0;31mTypeError\u001b[0m: 'numpy.ndarray' object is not callable"
          ]
        }
      ]
    }
  ]
}